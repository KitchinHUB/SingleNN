{
 "cells": [
  {
   "cell_type": "code",
   "execution_count": 1,
   "metadata": {
    "ExecuteTime": {
     "end_time": "2020-04-22T21:50:42.759448Z",
     "start_time": "2020-04-22T21:50:42.426704Z"
    }
   },
   "outputs": [],
   "source": [
    "from BPNN.fp_calculator import set_sym, db_to_fp\n",
    "from BPNN.train_agent import Agent\n",
    "import numpy as np\n",
    "from ase.db import connect\n",
    "import torch\n",
    "import os"
   ]
  },
  {
   "cell_type": "markdown",
   "metadata": {},
   "source": [
    "### Set fingerprints parameters"
   ]
  },
  {
   "cell_type": "code",
   "execution_count": 2,
   "metadata": {
    "ExecuteTime": {
     "end_time": "2020-04-22T21:50:43.578025Z",
     "start_time": "2020-04-22T21:50:43.571043Z"
    }
   },
   "outputs": [],
   "source": [
    "# set symm func parameters\n",
    "elements = ['Pd', 'Au']  # [1, 2 in the param_set]\n",
    "Gs = [2, 4]\n",
    "cutoff = 6.0\n",
    "g2_etas = [0.01, 0.05, 1.0, 4.0]\n",
    "g2_Rses = [0.0]\n",
    "g4_etas = [0.03, 0.2]  # if only use g2, set g4 parameters to None\n",
    "g4_zetas = [1.0, 2.0]\n",
    "g4_lambdas = [1.0, -1.0]\n",
    "\n",
    "params_set = set_sym(elements, Gs, cutoff, g2_etas=g2_etas, g2_Rses=g2_Rses, \n",
    "                     g4_etas=g4_etas, g4_zetas=g4_zetas, g4_lambdas=g4_lambdas)\n",
    "\n",
    "# working folder: save the fingerprints, scaling file as well as the model files\n",
    "Name = 'PdAu-bulk-222'\n",
    "if not os.path.isdir(f'./{Name}'):\n",
    "    os.mkdir(f'./{Name}')"
   ]
  },
  {
   "cell_type": "markdown",
   "metadata": {},
   "source": [
    "### Calculate fingerprints"
   ]
  },
  {
   "cell_type": "code",
   "execution_count": 3,
   "metadata": {
    "ExecuteTime": {
     "end_time": "2020-04-22T21:50:45.439696Z",
     "start_time": "2020-04-22T21:50:44.634616Z"
    }
   },
   "outputs": [],
   "source": [
    "train_db_name = './db/AuPd-bulk-222-dft-train.db'\n",
    "valid_db_name = './db/AuPd-bulk-222-dft-valid.db'\n",
    "\n",
    "# calculate fingerprints for databases, and store them\n",
    "train_db = connect(train_db_name)\n",
    "train_data = db_to_fp(train_db, params_set)\n",
    "torch.save(train_data, f'./{Name}/PdAu_train.sav')\n",
    "\n",
    "valid_db = connect(valid_db_name)\n",
    "valid_data = db_to_fp(valid_db, params_set)\n",
    "torch.save(valid_data, f'./{Name}/PdAu_valid.sav')"
   ]
  },
  {
   "cell_type": "markdown",
   "metadata": {},
   "source": [
    "### Load fingerprints and start the training process"
   ]
  },
  {
   "cell_type": "code",
   "execution_count": 4,
   "metadata": {
    "ExecuteTime": {
     "end_time": "2020-04-22T21:50:50.325420Z",
     "start_time": "2020-04-22T21:50:46.829236Z"
    }
   },
   "outputs": [],
   "source": [
    "Name = 'PdAu-bulk-222'\n",
    "\n",
    "# load data\n",
    "train_data = torch.load(f'./{Name}/PdAu_train.sav')\n",
    "valid_data = torch.load(f'./{Name}/PdAu_valid.sav')\n",
    "test_data = torch.load(f'./{Name}/PdAu_valid.sav')\n",
    "\n",
    "# specialize log file and model files\n",
    "element = torch.tensor([46, 79])  # using atomic number to distinguish NNs for different elements\n",
    "model_paths = [f'./{Name}/model_for_{i}.sav' for i in element.tolist()]\n",
    "scale_path = f'./{Name}/scale.sav'\n",
    "log_name = f'./{Name}/log.txt'\n",
    "\n",
    "# instantiate training agent\n",
    "device = torch.device('cpu')\n",
    "agent = Agent(train_data=train_data, valid_data=valid_data, model_paths=model_paths, scale_path=scale_path, \n",
    "              test_data=test_data, hidden_1=10, hidden_2=10, lr=1.0, max_iter=10, history_size=100, device=device)\n",
    "\n",
    "# start training process\n",
    "agent.train(log_name=log_name, n_epoch=101, interupt=True, val_interval=10, \n",
    "            is_force=False, nrg_convg=2.0, force_convg=20, nrg_coef=1000, force_coef=10)\n",
    "\n",
    "# After training process, we can check the training trajectory in the specified log file "
   ]
  },
  {
   "cell_type": "markdown",
   "metadata": {},
   "source": [
    "### Evaluate performance of models"
   ]
  },
  {
   "cell_type": "code",
   "execution_count": 6,
   "metadata": {
    "ExecuteTime": {
     "end_time": "2020-04-22T21:51:15.888738Z",
     "start_time": "2020-04-22T21:51:15.876636Z"
    }
   },
   "outputs": [
    {
     "name": "stdout",
     "output_type": "stream",
     "text": [
      "1.5829404592514038 meV/atom\n"
     ]
    }
   ],
   "source": [
    "Name = 'PdAu-bulk-222'\n",
    "\n",
    "# specialize log file and model files\n",
    "element = torch.tensor([46, 79])  # using atomic number to distinguish NNs for different elements\n",
    "model_paths = [f'./{Name}/model_for_{i}.sav' for i in element.tolist()]\n",
    "scale_path = f'./{Name}/scale.sav'\n",
    "log_name = f'./{Name}/log.txt'\n",
    "\n",
    "# the evaluation is conducted on test_data of the agent, since we did not specify the test_data above, so we can re-instantiate\n",
    "# an agent. As an example, we use the same datatest for these three variables since in evaluation step, train_data and valid_data\n",
    "# don't matter.\n",
    "train_data = torch.load(f'./{Name}/PdAu_valid.sav')\n",
    "valid_data = torch.load(f'./{Name}/PdAu_valid.sav')\n",
    "test_data = torch.load(f'./{Name}/PdAu_valid.sav')\n",
    "\n",
    "# instantiate training agent\n",
    "device = torch.device('cpu')\n",
    "agent = Agent(train_data=train_data, valid_data=valid_data, model_paths=model_paths, scale_path=scale_path, \n",
    "              test_data=test_data, hidden_1=10, hidden_2=10, lr=1.0, max_iter=10, history_size=100, device=device)\n",
    "\n",
    "# test function returns energy_predictions, force_predictions, energy_mae, force_mae in order.\n",
    "# if is_force = False, return zeros for force_predctions and force mae\n",
    "nrg_pred, forces_pred, nrg_mae, force_mae = agent.test(is_force=False)\n",
    "print(f'{nrg_mae*1000} meV/atom')"
   ]
  },
  {
   "cell_type": "code",
   "execution_count": null,
   "metadata": {},
   "outputs": [],
   "source": []
  }
 ],
 "metadata": {
  "kernelspec": {
   "display_name": "Python 3",
   "language": "python",
   "name": "python3"
  },
  "language_info": {
   "codemirror_mode": {
    "name": "ipython",
    "version": 3
   },
   "file_extension": ".py",
   "mimetype": "text/x-python",
   "name": "python",
   "nbconvert_exporter": "python",
   "pygments_lexer": "ipython3",
   "version": "3.6.8"
  },
  "varInspector": {
   "cols": {
    "lenName": 16,
    "lenType": 16,
    "lenVar": 40
   },
   "kernels_config": {
    "python": {
     "delete_cmd_postfix": "",
     "delete_cmd_prefix": "del ",
     "library": "var_list.py",
     "varRefreshCmd": "print(var_dic_list())"
    },
    "r": {
     "delete_cmd_postfix": ") ",
     "delete_cmd_prefix": "rm(",
     "library": "var_list.r",
     "varRefreshCmd": "cat(var_dic_list()) "
    }
   },
   "types_to_exclude": [
    "module",
    "function",
    "builtin_function_or_method",
    "instance",
    "_Feature"
   ],
   "window_display": false
  }
 },
 "nbformat": 4,
 "nbformat_minor": 2
}
